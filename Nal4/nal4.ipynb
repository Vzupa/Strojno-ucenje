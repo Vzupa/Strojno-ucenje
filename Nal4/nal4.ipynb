{
 "cells": [
  {
   "cell_type": "code",
   "execution_count": 2,
   "id": "initial_id",
   "metadata": {
    "collapsed": true,
    "ExecuteTime": {
     "end_time": "2023-11-04T23:18:11.761569200Z",
     "start_time": "2023-11-04T23:18:11.693377500Z"
    }
   },
   "outputs": [
    {
     "data": {
      "text/plain": "                                              Country  Number_students  \\\nUniversity of Oxford                   United Kingdom           20.664   \nCalifornia Institute of Technology      United States            2.240   \nUniversity of Cambridge                United Kingdom           18.978   \nStanford University                     United States           16.135   \nMassachusetts Institute of Technology   United States           11.247   \n\n                                       Numb_students_per_Staff  Score_Result  \\\nUniversity of Oxford                                      11.2          95.4   \nCalifornia Institute of Technology                         6.4          94.5   \nUniversity of Cambridge                                   10.9          94.4   \nStanford University                                        7.3          94.3   \nMassachusetts Institute of Technology                      8.6          93.6   \n\n                                       Rank  International_Students(%)  \\\nUniversity of Oxford                    1.0                  41.000000   \nCalifornia Institute of Technology      2.0                  30.000000   \nUniversity of Cambridge                 3.0                  37.000000   \nStanford University                     4.0                  11.086892   \nMassachusetts Institute of Technology   5.0                  34.000000   \n\n                                       Percentage_Female(%)  \\\nUniversity of Oxford                              46.000000   \nCalifornia Institute of Technology                47.583088   \nUniversity of Cambridge                           47.000000   \nStanford University                               43.000000   \nMassachusetts Institute of Technology             39.000000   \n\n                                       Percentage_Male(%)  Teaching  Research  \\\nUniversity of Oxford                                 54.0      90.5      99.6   \nCalifornia Institute of Technology                   66.0      92.1      97.2   \nUniversity of Cambridge                              53.0      91.4      98.7   \nStanford University                                  57.0      92.8      96.4   \nMassachusetts Institute of Technology                61.0      90.5      92.4   \n\n                                       Citations  Industry_Income  \\\nUniversity of Oxford                        98.4             65.5   \nCalifornia Institute of Technology          97.9             88.0   \nUniversity of Cambridge                     95.8             59.3   \nStanford University                         99.9             66.2   \nMassachusetts Institute of Technology       99.5             86.9   \n\n                                      International_Outlook  \nUniversity of Oxford                              excellent  \nCalifornia Institute of Technology                excellent  \nUniversity of Cambridge                           excellent  \nStanford University                               excellent  \nMassachusetts Institute of Technology             excellent  ",
      "text/html": "<div>\n<style scoped>\n    .dataframe tbody tr th:only-of-type {\n        vertical-align: middle;\n    }\n\n    .dataframe tbody tr th {\n        vertical-align: top;\n    }\n\n    .dataframe thead th {\n        text-align: right;\n    }\n</style>\n<table border=\"1\" class=\"dataframe\">\n  <thead>\n    <tr style=\"text-align: right;\">\n      <th></th>\n      <th>Country</th>\n      <th>Number_students</th>\n      <th>Numb_students_per_Staff</th>\n      <th>Score_Result</th>\n      <th>Rank</th>\n      <th>International_Students(%)</th>\n      <th>Percentage_Female(%)</th>\n      <th>Percentage_Male(%)</th>\n      <th>Teaching</th>\n      <th>Research</th>\n      <th>Citations</th>\n      <th>Industry_Income</th>\n      <th>International_Outlook</th>\n    </tr>\n  </thead>\n  <tbody>\n    <tr>\n      <th>University of Oxford</th>\n      <td>United Kingdom</td>\n      <td>20.664</td>\n      <td>11.2</td>\n      <td>95.4</td>\n      <td>1.0</td>\n      <td>41.000000</td>\n      <td>46.000000</td>\n      <td>54.0</td>\n      <td>90.5</td>\n      <td>99.6</td>\n      <td>98.4</td>\n      <td>65.5</td>\n      <td>excellent</td>\n    </tr>\n    <tr>\n      <th>California Institute of Technology</th>\n      <td>United States</td>\n      <td>2.240</td>\n      <td>6.4</td>\n      <td>94.5</td>\n      <td>2.0</td>\n      <td>30.000000</td>\n      <td>47.583088</td>\n      <td>66.0</td>\n      <td>92.1</td>\n      <td>97.2</td>\n      <td>97.9</td>\n      <td>88.0</td>\n      <td>excellent</td>\n    </tr>\n    <tr>\n      <th>University of Cambridge</th>\n      <td>United Kingdom</td>\n      <td>18.978</td>\n      <td>10.9</td>\n      <td>94.4</td>\n      <td>3.0</td>\n      <td>37.000000</td>\n      <td>47.000000</td>\n      <td>53.0</td>\n      <td>91.4</td>\n      <td>98.7</td>\n      <td>95.8</td>\n      <td>59.3</td>\n      <td>excellent</td>\n    </tr>\n    <tr>\n      <th>Stanford University</th>\n      <td>United States</td>\n      <td>16.135</td>\n      <td>7.3</td>\n      <td>94.3</td>\n      <td>4.0</td>\n      <td>11.086892</td>\n      <td>43.000000</td>\n      <td>57.0</td>\n      <td>92.8</td>\n      <td>96.4</td>\n      <td>99.9</td>\n      <td>66.2</td>\n      <td>excellent</td>\n    </tr>\n    <tr>\n      <th>Massachusetts Institute of Technology</th>\n      <td>United States</td>\n      <td>11.247</td>\n      <td>8.6</td>\n      <td>93.6</td>\n      <td>5.0</td>\n      <td>34.000000</td>\n      <td>39.000000</td>\n      <td>61.0</td>\n      <td>90.5</td>\n      <td>92.4</td>\n      <td>99.5</td>\n      <td>86.9</td>\n      <td>excellent</td>\n    </tr>\n  </tbody>\n</table>\n</div>"
     },
     "execution_count": 2,
     "metadata": {},
     "output_type": "execute_result"
    }
   ],
   "source": [
    "import pandas as pd\n",
    "\n",
    "df = pd.read_csv(\"../Nal3/university_rank_no_nan.csv\", index_col=0, sep=\",\", decimal=\".\")\n",
    "df.head()"
   ]
  },
  {
   "cell_type": "code",
   "execution_count": 3,
   "outputs": [
    {
     "data": {
      "text/plain": "Country                      0\nNumber_students              0\nNumb_students_per_Staff      0\nScore_Result                 0\nRank                         0\nInternational_Students(%)    0\nPercentage_Female(%)         0\nPercentage_Male(%)           0\nTeaching                     0\nResearch                     0\nCitations                    0\nIndustry_Income              0\nInternational_Outlook        0\ndtype: int64"
     },
     "execution_count": 3,
     "metadata": {},
     "output_type": "execute_result"
    }
   ],
   "source": [
    "df.isnull().sum()"
   ],
   "metadata": {
    "collapsed": false,
    "ExecuteTime": {
     "end_time": "2023-11-04T23:18:12.153286500Z",
     "start_time": "2023-11-04T23:18:12.133279600Z"
    }
   },
   "id": "b98a24836b43c2e1"
  },
  {
   "cell_type": "code",
   "execution_count": 4,
   "outputs": [
    {
     "data": {
      "text/plain": "Country                       object\nNumber_students              float64\nNumb_students_per_Staff      float64\nScore_Result                 float64\nRank                         float64\nInternational_Students(%)    float64\nPercentage_Female(%)         float64\nPercentage_Male(%)           float64\nTeaching                     float64\nResearch                     float64\nCitations                    float64\nIndustry_Income              float64\nInternational_Outlook         object\ndtype: object"
     },
     "execution_count": 4,
     "metadata": {},
     "output_type": "execute_result"
    }
   ],
   "source": [
    "df.dtypes"
   ],
   "metadata": {
    "collapsed": false,
    "ExecuteTime": {
     "end_time": "2023-11-04T23:18:12.608874100Z",
     "start_time": "2023-11-04T23:18:12.590500400Z"
    }
   },
   "id": "f105c280ad6a1ad"
  },
  {
   "cell_type": "code",
   "execution_count": 5,
   "outputs": [
    {
     "name": "stdout",
     "output_type": "stream",
     "text": [
      "                                              Country  Number_students  \\\n",
      "University of Oxford                   United Kingdom           20.664   \n",
      "California Institute of Technology      United States            2.240   \n",
      "University of Cambridge                United Kingdom           18.978   \n",
      "Stanford University                     United States           16.135   \n",
      "Massachusetts Institute of Technology   United States           11.247   \n",
      "\n",
      "                                       Numb_students_per_Staff  Score_Result  \\\n",
      "University of Oxford                                      11.2          95.4   \n",
      "California Institute of Technology                         6.4          94.5   \n",
      "University of Cambridge                                   10.9          94.4   \n",
      "Stanford University                                        7.3          94.3   \n",
      "Massachusetts Institute of Technology                      8.6          93.6   \n",
      "\n",
      "                                       Rank  International_Students(%)  \\\n",
      "University of Oxford                    1.0                  41.000000   \n",
      "California Institute of Technology      2.0                  30.000000   \n",
      "University of Cambridge                 3.0                  37.000000   \n",
      "Stanford University                     4.0                  11.086892   \n",
      "Massachusetts Institute of Technology   5.0                  34.000000   \n",
      "\n",
      "                                       Percentage_Female(%)  \\\n",
      "University of Oxford                              46.000000   \n",
      "California Institute of Technology                47.583088   \n",
      "University of Cambridge                           47.000000   \n",
      "Stanford University                               43.000000   \n",
      "Massachusetts Institute of Technology             39.000000   \n",
      "\n",
      "                                       Percentage_Male(%)  Teaching  Research  \\\n",
      "University of Oxford                                 54.0      90.5      99.6   \n",
      "California Institute of Technology                   66.0      92.1      97.2   \n",
      "University of Cambridge                              53.0      91.4      98.7   \n",
      "Stanford University                                  57.0      92.8      96.4   \n",
      "Massachusetts Institute of Technology                61.0      90.5      92.4   \n",
      "\n",
      "                                       Citations  Industry_Income  \\\n",
      "University of Oxford                        98.4             65.5   \n",
      "California Institute of Technology          97.9             88.0   \n",
      "University of Cambridge                     95.8             59.3   \n",
      "Stanford University                         99.9             66.2   \n",
      "Massachusetts Institute of Technology       99.5             86.9   \n",
      "\n",
      "                                      International_Outlook       Status  \n",
      "University of Oxford                              excellent  prestigious  \n",
      "California Institute of Technology                excellent  prestigious  \n",
      "University of Cambridge                           excellent  prestigious  \n",
      "Stanford University                               excellent  prestigious  \n",
      "Massachusetts Institute of Technology             excellent  prestigious  \n"
     ]
    },
    {
     "data": {
      "text/plain": "Country                      0\nNumber_students              0\nNumb_students_per_Staff      0\nScore_Result                 0\nRank                         0\nInternational_Students(%)    0\nPercentage_Female(%)         0\nPercentage_Male(%)           0\nTeaching                     0\nResearch                     0\nCitations                    0\nIndustry_Income              0\nInternational_Outlook        0\nStatus                       0\ndtype: int64"
     },
     "execution_count": 5,
     "metadata": {},
     "output_type": "execute_result"
    }
   ],
   "source": [
    "import numpy as np\n",
    "\n",
    "conditions = [\n",
    "    df['Rank'] < 200,\n",
    "    (df['Rank'] >= 200) & (df['Rank'] < 300),\n",
    "    (df['Rank'] >= 300) & (df['Rank'] < 430),\n",
    "    df['Rank'] >= 430\n",
    "]\n",
    "\n",
    "choices = ['prestigious', 'reputable', 'average', 'badReputation']\n",
    "\n",
    "df['Status'] = np.select(conditions, choices, default=np.nan)\n",
    "\n",
    "print(df.head(5))\n",
    "df.isnull().sum()"
   ],
   "metadata": {
    "collapsed": false,
    "ExecuteTime": {
     "end_time": "2023-11-04T23:18:13.048160Z",
     "start_time": "2023-11-04T23:18:13.019165500Z"
    }
   },
   "id": "e6729550b5204f17"
  },
  {
   "cell_type": "code",
   "execution_count": 6,
   "outputs": [
    {
     "data": {
      "text/plain": "<Axes: xlabel='Status', ylabel='count'>"
     },
     "execution_count": 6,
     "metadata": {},
     "output_type": "execute_result"
    },
    {
     "data": {
      "text/plain": "<Figure size 640x480 with 1 Axes>",
      "image/png": "[encoded data removed]"
     },
     "metadata": {},
     "output_type": "display_data"
    }
   ],
   "source": [
    "import seaborn as sns\n",
    "\n",
    "sns.countplot(x='Status', data=df)"
   ],
   "metadata": {
    "collapsed": false,
    "ExecuteTime": {
     "end_time": "2023-11-04T23:18:16.851870300Z",
     "start_time": "2023-11-04T23:18:16.675885600Z"
    }
   },
   "id": "ef67d162ecc640c9"
  },
  {
   "cell_type": "code",
   "execution_count": 7,
   "outputs": [
    {
     "name": "stdout",
     "output_type": "stream",
     "text": [
      "Country                      Slovenia\n",
      "Number_students                12.124\n",
      "Numb_students_per_Staff          13.6\n",
      "Score_Result                     23.0\n",
      "Rank                            418.0\n",
      "International_Students(%)         5.0\n",
      "Percentage_Female(%)             55.0\n",
      "Percentage_Male(%)               45.0\n",
      "Teaching                         17.0\n",
      "Research                         15.8\n",
      "Citations                        31.0\n",
      "Industry_Income                  40.0\n",
      "International_Outlook             bad\n",
      "Status                        average\n",
      "Name: University of Maribor, dtype: object \n",
      "\n",
      "Country                      Slovenia\n",
      "Number_students                 40.11\n",
      "Numb_students_per_Staff          14.7\n",
      "Score_Result                     29.5\n",
      "Rank                            356.0\n",
      "International_Students(%)         6.0\n",
      "Percentage_Female(%)             60.0\n",
      "Percentage_Male(%)               40.0\n",
      "Teaching                         21.1\n",
      "Research                         18.7\n",
      "Citations                        44.8\n",
      "Industry_Income                  39.7\n",
      "International_Outlook            good\n",
      "Status                        average\n",
      "Name: University of Ljubljana, dtype: object \n"
     ]
    }
   ],
   "source": [
    "print(df.loc[\"University of Maribor\"], \"\\n\")\n",
    "print(df.loc[\"University of Ljubljana\"], \"\\n\")"
   ],
   "metadata": {
    "collapsed": false,
    "ExecuteTime": {
     "end_time": "2023-11-04T23:18:18.296270400Z",
     "start_time": "2023-11-04T23:18:18.280258400Z"
    }
   },
   "id": "67a577f3a3f9d9d"
  },
  {
   "cell_type": "code",
   "execution_count": 12,
   "outputs": [
    {
     "data": {
      "text/plain": "                                       Country  Number_students  \\\nUniversity of Oxford                        88           20.664   \nCalifornia Institute of Technology          89            2.240   \nUniversity of Cambridge                     88           18.978   \nStanford University                         89           16.135   \nMassachusetts Institute of Technology       89           11.247   \n\n                                       Numb_students_per_Staff  Score_Result  \\\nUniversity of Oxford                                      11.2          95.4   \nCalifornia Institute of Technology                         6.4          94.5   \nUniversity of Cambridge                                   10.9          94.4   \nStanford University                                        7.3          94.3   \nMassachusetts Institute of Technology                      8.6          93.6   \n\n                                       Rank  International_Students(%)  \\\nUniversity of Oxford                    1.0                  41.000000   \nCalifornia Institute of Technology      2.0                  30.000000   \nUniversity of Cambridge                 3.0                  37.000000   \nStanford University                     4.0                  11.086892   \nMassachusetts Institute of Technology   5.0                  34.000000   \n\n                                       Percentage_Female(%)  \\\nUniversity of Oxford                              46.000000   \nCalifornia Institute of Technology                47.583088   \nUniversity of Cambridge                           47.000000   \nStanford University                               43.000000   \nMassachusetts Institute of Technology             39.000000   \n\n                                       Percentage_Male(%)  Teaching  Research  \\\nUniversity of Oxford                                 54.0      90.5      99.6   \nCalifornia Institute of Technology                   66.0      92.1      97.2   \nUniversity of Cambridge                              53.0      91.4      98.7   \nStanford University                                  57.0      92.8      96.4   \nMassachusetts Institute of Technology                61.0      90.5      92.4   \n\n                                       Citations  Industry_Income  \\\nUniversity of Oxford                        98.4             65.5   \nCalifornia Institute of Technology          97.9             88.0   \nUniversity of Cambridge                     95.8             59.3   \nStanford University                         99.9             66.2   \nMassachusetts Institute of Technology       99.5             86.9   \n\n                                       International_Outlook       Status  \nUniversity of Oxford                                       1  prestigious  \nCalifornia Institute of Technology                         1  prestigious  \nUniversity of Cambridge                                    1  prestigious  \nStanford University                                        1  prestigious  \nMassachusetts Institute of Technology                      1  prestigious  ",
      "text/html": "<div>\n<style scoped>\n    .dataframe tbody tr th:only-of-type {\n        vertical-align: middle;\n    }\n\n    .dataframe tbody tr th {\n        vertical-align: top;\n    }\n\n    .dataframe thead th {\n        text-align: right;\n    }\n</style>\n<table border=\"1\" class=\"dataframe\">\n  <thead>\n    <tr style=\"text-align: right;\">\n      <th></th>\n      <th>Country</th>\n      <th>Number_students</th>\n      <th>Numb_students_per_Staff</th>\n      <th>Score_Result</th>\n      <th>Rank</th>\n      <th>International_Students(%)</th>\n      <th>Percentage_Female(%)</th>\n      <th>Percentage_Male(%)</th>\n      <th>Teaching</th>\n      <th>Research</th>\n      <th>Citations</th>\n      <th>Industry_Income</th>\n      <th>International_Outlook</th>\n      <th>Status</th>\n    </tr>\n  </thead>\n  <tbody>\n    <tr>\n      <th>University of Oxford</th>\n      <td>88</td>\n      <td>20.664</td>\n      <td>11.2</td>\n      <td>95.4</td>\n      <td>1.0</td>\n      <td>41.000000</td>\n      <td>46.000000</td>\n      <td>54.0</td>\n      <td>90.5</td>\n      <td>99.6</td>\n      <td>98.4</td>\n      <td>65.5</td>\n      <td>1</td>\n      <td>prestigious</td>\n    </tr>\n    <tr>\n      <th>California Institute of Technology</th>\n      <td>89</td>\n      <td>2.240</td>\n      <td>6.4</td>\n      <td>94.5</td>\n      <td>2.0</td>\n      <td>30.000000</td>\n      <td>47.583088</td>\n      <td>66.0</td>\n      <td>92.1</td>\n      <td>97.2</td>\n      <td>97.9</td>\n      <td>88.0</td>\n      <td>1</td>\n      <td>prestigious</td>\n    </tr>\n    <tr>\n      <th>University of Cambridge</th>\n      <td>88</td>\n      <td>18.978</td>\n      <td>10.9</td>\n      <td>94.4</td>\n      <td>3.0</td>\n      <td>37.000000</td>\n      <td>47.000000</td>\n      <td>53.0</td>\n      <td>91.4</td>\n      <td>98.7</td>\n      <td>95.8</td>\n      <td>59.3</td>\n      <td>1</td>\n      <td>prestigious</td>\n    </tr>\n    <tr>\n      <th>Stanford University</th>\n      <td>89</td>\n      <td>16.135</td>\n      <td>7.3</td>\n      <td>94.3</td>\n      <td>4.0</td>\n      <td>11.086892</td>\n      <td>43.000000</td>\n      <td>57.0</td>\n      <td>92.8</td>\n      <td>96.4</td>\n      <td>99.9</td>\n      <td>66.2</td>\n      <td>1</td>\n      <td>prestigious</td>\n    </tr>\n    <tr>\n      <th>Massachusetts Institute of Technology</th>\n      <td>89</td>\n      <td>11.247</td>\n      <td>8.6</td>\n      <td>93.6</td>\n      <td>5.0</td>\n      <td>34.000000</td>\n      <td>39.000000</td>\n      <td>61.0</td>\n      <td>90.5</td>\n      <td>92.4</td>\n      <td>99.5</td>\n      <td>86.9</td>\n      <td>1</td>\n      <td>prestigious</td>\n    </tr>\n  </tbody>\n</table>\n</div>"
     },
     "execution_count": 12,
     "metadata": {},
     "output_type": "execute_result"
    }
   ],
   "source": [
    "from sklearn.preprocessing import LabelEncoder\n",
    "\n",
    "izhod = \"Status\"\n",
    "\n",
    "df1 = df.copy(deep=True)\n",
    "kat = df1.select_dtypes(include='object').columns.tolist()\n",
    "kat.remove(izhod)\n",
    "\n",
    "\n",
    "for k in kat:\n",
    "    df1[k] = LabelEncoder().fit_transform(df1[k])\n",
    "    \n",
    "df1.head()"
   ],
   "metadata": {
    "collapsed": false,
    "ExecuteTime": {
     "end_time": "2023-11-04T23:19:41.756370600Z",
     "start_time": "2023-11-04T23:19:41.719375600Z"
    }
   },
   "id": "2d9e4e242da86916"
  },
  {
   "cell_type": "code",
   "execution_count": 16,
   "outputs": [
    {
     "name": "stdout",
     "output_type": "stream",
     "text": [
      "['Number_students', 'Numb_students_per_Staff', 'Score_Result', 'Rank', 'International_Students(%)', 'Percentage_Female(%)', 'Percentage_Male(%)', 'Teaching', 'Research', 'Citations', 'Industry_Income']\n"
     ]
    },
    {
     "data": {
      "text/plain": "                                       Country  Number_students  \\\nUniversity of Oxford                        88        -0.115104   \nCalifornia Institute of Technology          89        -0.366056   \nUniversity of Cambridge                     88        -0.138069   \nStanford University                         89        -0.176793   \nMassachusetts Institute of Technology       89        -0.243372   \n\n                                       Numb_students_per_Staff  Score_Result  \\\nUniversity of Oxford                                 -0.461506          95.4   \nCalifornia Institute of Technology                   -0.746721          94.5   \nUniversity of Cambridge                              -0.479332          94.4   \nStanford University                                  -0.693243          94.3   \nMassachusetts Institute of Technology                -0.615997          93.6   \n\n                                       Rank  International_Students(%)  \\\nUniversity of Oxford                    1.0                   2.625712   \nCalifornia Institute of Technology      2.0                   1.660154   \nUniversity of Cambridge                 3.0                   2.274600   \nStanford University                     4.0                   0.000000   \nMassachusetts Institute of Technology   5.0                   2.011266   \n\n                                       Percentage_Female(%)  \\\nUniversity of Oxford                              -0.100112   \nCalifornia Institute of Technology                 0.000000   \nUniversity of Cambridge                           -0.036874   \nStanford University                               -0.289827   \nMassachusetts Institute of Technology             -0.542781   \n\n                                       Percentage_Male(%)  Teaching  Research  \\\nUniversity of Oxford                             0.390898  4.402488  4.313494   \nCalifornia Institute of Technology               1.145591  4.515607  4.176592   \nUniversity of Cambridge                          0.328007  4.466117  4.262156   \nStanford University                              0.579572  4.565096  4.130958   \nMassachusetts Institute of Technology            0.831136  4.402488  3.902788   \n\n                                       Citations  Industry_Income  \\\nUniversity of Oxford                    1.813729         1.169357   \nCalifornia Institute of Technology      1.795695         2.552468   \nUniversity of Cambridge                 1.719953         0.788233   \nStanford University                     1.867831         1.212387   \nMassachusetts Institute of Technology   1.853403         2.484849   \n\n                                       International_Outlook       Status  \nUniversity of Oxford                                       1  prestigious  \nCalifornia Institute of Technology                         1  prestigious  \nUniversity of Cambridge                                    1  prestigious  \nStanford University                                        1  prestigious  \nMassachusetts Institute of Technology                      1  prestigious  ",
      "text/html": "<div>\n<style scoped>\n    .dataframe tbody tr th:only-of-type {\n        vertical-align: middle;\n    }\n\n    .dataframe tbody tr th {\n        vertical-align: top;\n    }\n\n    .dataframe thead th {\n        text-align: right;\n    }\n</style>\n<table border=\"1\" class=\"dataframe\">\n  <thead>\n    <tr style=\"text-align: right;\">\n      <th></th>\n      <th>Country</th>\n      <th>Number_students</th>\n      <th>Numb_students_per_Staff</th>\n      <th>Score_Result</th>\n      <th>Rank</th>\n      <th>International_Students(%)</th>\n      <th>Percentage_Female(%)</th>\n      <th>Percentage_Male(%)</th>\n      <th>Teaching</th>\n      <th>Research</th>\n      <th>Citations</th>\n      <th>Industry_Income</th>\n      <th>International_Outlook</th>\n      <th>Status</th>\n    </tr>\n  </thead>\n  <tbody>\n    <tr>\n      <th>University of Oxford</th>\n      <td>88</td>\n      <td>-0.115104</td>\n      <td>-0.461506</td>\n      <td>95.4</td>\n      <td>1.0</td>\n      <td>2.625712</td>\n      <td>-0.100112</td>\n      <td>0.390898</td>\n      <td>4.402488</td>\n      <td>4.313494</td>\n      <td>1.813729</td>\n      <td>1.169357</td>\n      <td>1</td>\n      <td>prestigious</td>\n    </tr>\n    <tr>\n      <th>California Institute of Technology</th>\n      <td>89</td>\n      <td>-0.366056</td>\n      <td>-0.746721</td>\n      <td>94.5</td>\n      <td>2.0</td>\n      <td>1.660154</td>\n      <td>0.000000</td>\n      <td>1.145591</td>\n      <td>4.515607</td>\n      <td>4.176592</td>\n      <td>1.795695</td>\n      <td>2.552468</td>\n      <td>1</td>\n      <td>prestigious</td>\n    </tr>\n    <tr>\n      <th>University of Cambridge</th>\n      <td>88</td>\n      <td>-0.138069</td>\n      <td>-0.479332</td>\n      <td>94.4</td>\n      <td>3.0</td>\n      <td>2.274600</td>\n      <td>-0.036874</td>\n      <td>0.328007</td>\n      <td>4.466117</td>\n      <td>4.262156</td>\n      <td>1.719953</td>\n      <td>0.788233</td>\n      <td>1</td>\n      <td>prestigious</td>\n    </tr>\n    <tr>\n      <th>Stanford University</th>\n      <td>89</td>\n      <td>-0.176793</td>\n      <td>-0.693243</td>\n      <td>94.3</td>\n      <td>4.0</td>\n      <td>0.000000</td>\n      <td>-0.289827</td>\n      <td>0.579572</td>\n      <td>4.565096</td>\n      <td>4.130958</td>\n      <td>1.867831</td>\n      <td>1.212387</td>\n      <td>1</td>\n      <td>prestigious</td>\n    </tr>\n    <tr>\n      <th>Massachusetts Institute of Technology</th>\n      <td>89</td>\n      <td>-0.243372</td>\n      <td>-0.615997</td>\n      <td>93.6</td>\n      <td>5.0</td>\n      <td>2.011266</td>\n      <td>-0.542781</td>\n      <td>0.831136</td>\n      <td>4.402488</td>\n      <td>3.902788</td>\n      <td>1.853403</td>\n      <td>2.484849</td>\n      <td>1</td>\n      <td>prestigious</td>\n    </tr>\n  </tbody>\n</table>\n</div>"
     },
     "execution_count": 16,
     "metadata": {},
     "output_type": "execute_result"
    }
   ],
   "source": [
    "from sklearn.preprocessing import StandardScaler\n",
    "\n",
    "ste = df1.select_dtypes(include=['int64', 'float64']).columns.tolist()\n",
    "ste.remove(\"Rank\")\n",
    "ste.remove(\"Score_Result\")\n",
    "\n",
    "df1[ste] = StandardScaler().fit_transform(df1[ste])\n",
    "\n",
    "df1.head()"
   ],
   "metadata": {
    "collapsed": false,
    "ExecuteTime": {
     "end_time": "2023-11-04T23:23:46.912923900Z",
     "start_time": "2023-11-04T23:23:46.887731900Z"
    }
   },
   "id": "e06b1d01ea82e35e"
  },
  {
   "cell_type": "code",
   "execution_count": 17,
   "outputs": [
    {
     "name": "stdout",
     "output_type": "stream",
     "text": [
      "0.9226361031518625\n"
     ]
    }
   ],
   "source": [
    "from sklearn import metrics\n",
    "from sklearn.model_selection import train_test_split\n",
    "from sklearn.ensemble import RandomForestClassifier\n",
    "\n",
    "df_izhod = df1[izhod]\n",
    "df_vhod = df1.drop([izhod, \"Rank\", \"Score_Result\"], axis=1)\n",
    "\n",
    "X_train, X_test, y_train, y_test = train_test_split(df_vhod, df_izhod, test_size=0.25, random_state=789)\n",
    "drevo_ena = RandomForestClassifier(n_estimators=50, random_state=789)\n",
    "drevo_ena.fit(X_train, y_train)\n",
    "rezultat = drevo_ena.predict(X_test)\n",
    "\n",
    "print(metrics.accuracy_score(rezultat, y_test))"
   ],
   "metadata": {
    "collapsed": false,
    "ExecuteTime": {
     "end_time": "2023-11-04T23:26:31.508060800Z",
     "start_time": "2023-11-04T23:26:31.002063500Z"
    }
   },
   "id": "3c6fc6ca43b46d85"
  },
  {
   "cell_type": "code",
   "execution_count": 22,
   "outputs": [
    {
     "name": "stdout",
     "output_type": "stream",
     "text": [
      "0.8767908309455588\n"
     ]
    }
   ],
   "source": [
    "df2_fake = df.copy(deep=True)\n",
    "df2 = pd.get_dummies(df2_fake, columns=kat)\n",
    "\n",
    "df_izhod = df2[izhod]\n",
    "df_vhod = df2.drop([izhod, \"Rank\", \"Score_Result\"], axis=1)\n",
    "\n",
    "X_train, X_test, y_train, y_test = train_test_split(df_vhod, df_izhod, test_size=0.25, random_state=789)\n",
    "\n",
    "scaler = StandardScaler()\n",
    "X_train[ste] = scaler.fit_transform(X_train[ste])\n",
    "X_test[ste] = scaler.transform(X_test[ste])\n",
    "\n",
    "drevo_dva = RandomForestClassifier(n_estimators=50, random_state=789)\n",
    "drevo_dva.fit(X_train, y_train)\n",
    "rezultat = drevo_dva.predict(X_test)\n",
    "\n",
    "print(metrics.accuracy_score(rezultat, y_test))"
   ],
   "metadata": {
    "collapsed": false,
    "ExecuteTime": {
     "end_time": "2023-11-04T23:36:02.685966Z",
     "start_time": "2023-11-04T23:36:02.507229700Z"
    }
   },
   "id": "69184429e8f842f2"
  },
  {
   "cell_type": "code",
   "execution_count": 23,
   "outputs": [
    {
     "name": "stdout",
     "output_type": "stream",
     "text": [
      "Fitting 5 folds for each of 50 candidates, totalling 250 fits\n"
     ]
    },
    {
     "name": "stderr",
     "output_type": "stream",
     "text": [
      "C:\\Users\\vzupanic\\PycharmProjects\\pythonProject\\venv\\lib\\site-packages\\sklearn\\model_selection\\_validation.py:425: FitFailedWarning: \n",
      "65 fits failed out of a total of 250.\n",
      "The score on these train-test partitions for these parameters will be set to nan.\n",
      "If these failures are not expected, you can try to debug them by setting error_score='raise'.\n",
      "\n",
      "Below are more details about the failures:\n",
      "--------------------------------------------------------------------------------\n",
      "33 fits failed with the following error:\n",
      "Traceback (most recent call last):\n",
      "  File \"C:\\Users\\vzupanic\\PycharmProjects\\pythonProject\\venv\\lib\\site-packages\\sklearn\\model_selection\\_validation.py\", line 729, in _fit_and_score\n",
      "    estimator.fit(X_train, y_train, **fit_params)\n",
      "  File \"C:\\Users\\vzupanic\\PycharmProjects\\pythonProject\\venv\\lib\\site-packages\\sklearn\\base.py\", line 1145, in wrapper\n",
      "    estimator._validate_params()\n",
      "  File \"C:\\Users\\vzupanic\\PycharmProjects\\pythonProject\\venv\\lib\\site-packages\\sklearn\\base.py\", line 638, in _validate_params\n",
      "    validate_parameter_constraints(\n",
      "  File \"C:\\Users\\vzupanic\\PycharmProjects\\pythonProject\\venv\\lib\\site-packages\\sklearn\\utils\\_param_validation.py\", line 95, in validate_parameter_constraints\n",
      "    raise InvalidParameterError(\n",
      "sklearn.utils._param_validation.InvalidParameterError: The 'max_features' parameter of RandomForestClassifier must be an int in the range [1, inf), a float in the range (0.0, 1.0], a str among {'sqrt', 'log2'} or None. Got 'auto' instead.\n",
      "\n",
      "--------------------------------------------------------------------------------\n",
      "32 fits failed with the following error:\n",
      "Traceback (most recent call last):\n",
      "  File \"C:\\Users\\vzupanic\\PycharmProjects\\pythonProject\\venv\\lib\\site-packages\\sklearn\\model_selection\\_validation.py\", line 729, in _fit_and_score\n",
      "    estimator.fit(X_train, y_train, **fit_params)\n",
      "  File \"C:\\Users\\vzupanic\\PycharmProjects\\pythonProject\\venv\\lib\\site-packages\\sklearn\\base.py\", line 1145, in wrapper\n",
      "    estimator._validate_params()\n",
      "  File \"C:\\Users\\vzupanic\\PycharmProjects\\pythonProject\\venv\\lib\\site-packages\\sklearn\\base.py\", line 638, in _validate_params\n",
      "    validate_parameter_constraints(\n",
      "  File \"C:\\Users\\vzupanic\\PycharmProjects\\pythonProject\\venv\\lib\\site-packages\\sklearn\\utils\\_param_validation.py\", line 95, in validate_parameter_constraints\n",
      "    raise InvalidParameterError(\n",
      "sklearn.utils._param_validation.InvalidParameterError: The 'max_features' parameter of RandomForestClassifier must be an int in the range [1, inf), a float in the range (0.0, 1.0], a str among {'log2', 'sqrt'} or None. Got 'auto' instead.\n",
      "\n",
      "  warnings.warn(some_fits_failed_message, FitFailedWarning)\n",
      "C:\\Users\\vzupanic\\PycharmProjects\\pythonProject\\venv\\lib\\site-packages\\sklearn\\model_selection\\_search.py:979: UserWarning: One or more of the test scores are non-finite: [0.78809012 0.7837916         nan 0.78809268 0.80528162 0.7565617\n",
      "        nan 0.79310804 0.80885561 0.80098054 0.79167691        nan\n",
      " 0.79884793 0.73504608        nan        nan 0.81387609 0.80957501\n",
      " 0.80814644 0.81530722        nan 0.69560676        nan 0.7952509\n",
      " 0.75441116        nan 0.81746288 0.77304659 0.80098054 0.79453917\n",
      " 0.78809524 0.79811828 0.75155402 0.78378648        nan        nan\n",
      " 0.7931106  0.79883513 0.78953149 0.80886329 0.80886329 0.81460317\n",
      "        nan 0.80528674 0.81173835        nan 0.7931106  0.77663594\n",
      "        nan 0.79597542]\n",
      "  warnings.warn(\n"
     ]
    },
    {
     "name": "stdout",
     "output_type": "stream",
     "text": [
      "Best params: {'criterion': 'gini', 'max_depth': 44, 'max_features': 'sqrt', 'n_estimators': 257}\n",
      "Best score: 0.8174628776241679\n"
     ]
    }
   ],
   "source": [
    "from sklearn.model_selection import RandomizedSearchCV\n",
    "from scipy.stats import randint\n",
    "\n",
    "params = {\n",
    "    'n_estimators': randint(2, 1500),\n",
    "    'max_depth': randint(2, 50),\n",
    "    'criterion': ['gini', 'entropy'],\n",
    "    'max_features': ['auto', 'sqrt', 'log2']\n",
    "}\n",
    "\n",
    "random_search = RandomizedSearchCV(\n",
    "    RandomForestClassifier(),\n",
    "    param_distributions=params,\n",
    "    n_iter=50,\n",
    "    cv=5,\n",
    "    scoring='accuracy',\n",
    "    random_state=789,\n",
    "    verbose=1,\n",
    "    n_jobs=-1  # Uporabi vse procesorje\n",
    ")\n",
    "\n",
    "random_search.fit(df_vhod, df_izhod)\n",
    "print(f\"Best params: {random_search.best_params_}\")\n",
    "print(f\"Best score: {random_search.best_score_}\")"
   ],
   "metadata": {
    "collapsed": false,
    "ExecuteTime": {
     "end_time": "2023-11-04T23:45:48.622845600Z",
     "start_time": "2023-11-04T23:44:50.327461200Z"
    }
   },
   "id": "28dd7e941ddc8426"
  }
 ],
 "metadata": {
  "kernelspec": {
   "display_name": "Python 3",
   "language": "python",
   "name": "python3"
  },
  "language_info": {
   "codemirror_mode": {
    "name": "ipython",
    "version": 2
   },
   "file_extension": ".py",
   "mimetype": "text/x-python",
   "name": "python",
   "nbconvert_exporter": "python",
   "pygments_lexer": "ipython2",
   "version": "2.7.6"
  }
 },
 "nbformat": 4,
 "nbformat_minor": 5
}
