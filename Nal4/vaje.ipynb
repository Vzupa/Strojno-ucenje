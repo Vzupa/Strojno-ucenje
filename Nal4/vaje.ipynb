{
 "cells": [
  {
   "cell_type": "code",
   "execution_count": 1,
   "id": "initial_id",
   "metadata": {
    "collapsed": true,
    "ExecuteTime": {
     "end_time": "2023-10-24T10:12:49.451619300Z",
     "start_time": "2023-10-24T10:12:49.341634600Z"
    }
   },
   "outputs": [
    {
     "data": {
      "text/plain": "                   Type  Rooms  Bathroom  CarSpots    Landsize  BuildingArea  \\\n1 Abercrombie St  house    4.0  2.000000  2.000000  596.000000    161.000000   \n1 Aberfeldie Wy   house    5.0  3.000000  2.000000  588.584711    217.000000   \n1 Acheron Av      house    3.0  1.608363  1.701148  588.584711    158.274673   \n1 Adelle Ct       house    3.0  2.000000  2.000000  820.000000    158.274673   \n1 Aintree Rd      house    4.0  3.000000  4.000000  349.000000    158.274673   \n\n                    YearBuilt         Price        SellerG            Suburb  \\\n1 Abercrombie St  1980.000000  1.046312e+06         Nelson    Oakleigh South   \n1 Aberfeldie Wy   2005.000000  6.800000e+05          Barry  Caroline Springs   \n1 Acheron Av      1965.475409  8.900000e+05  hockingstuart         Reservoir   \n1 Adelle Ct       1965.475409  1.700000e+06          Barry         Doncaster   \n1 Aintree Rd      1965.475409  1.046312e+06         Nelson         Glen Iris   \n\n                  DistanceFromCenter  Lattitude  Longtitude  \\\n1 Abercrombie St                14.7 -37.932000  145.082700   \n1 Aberfeldie Wy                 14.8 -37.727050  144.748560   \n1 Acheron Av                    12.0 -37.811555  145.001695   \n1 Adelle Ct                     13.9 -37.780300  145.124800   \n1 Aintree Rd                     9.2 -37.858000  145.043300   \n\n                                  Regionname  \n1 Abercrombie St  South-Eastern Metropolitan  \n1 Aberfeldie Wy         Western Metropolitan  \n1 Acheron Av           Northern Metropolitan  \n1 Adelle Ct             Eastern Metropolitan  \n1 Aintree Rd           Southern Metropolitan  ",
      "text/html": "<div>\n<style scoped>\n    .dataframe tbody tr th:only-of-type {\n        vertical-align: middle;\n    }\n\n    .dataframe tbody tr th {\n        vertical-align: top;\n    }\n\n    .dataframe thead th {\n        text-align: right;\n    }\n</style>\n<table border=\"1\" class=\"dataframe\">\n  <thead>\n    <tr style=\"text-align: right;\">\n      <th></th>\n      <th>Type</th>\n      <th>Rooms</th>\n      <th>Bathroom</th>\n      <th>CarSpots</th>\n      <th>Landsize</th>\n      <th>BuildingArea</th>\n      <th>YearBuilt</th>\n      <th>Price</th>\n      <th>SellerG</th>\n      <th>Suburb</th>\n      <th>DistanceFromCenter</th>\n      <th>Lattitude</th>\n      <th>Longtitude</th>\n      <th>Regionname</th>\n    </tr>\n  </thead>\n  <tbody>\n    <tr>\n      <th>1 Abercrombie St</th>\n      <td>house</td>\n      <td>4.0</td>\n      <td>2.000000</td>\n      <td>2.000000</td>\n      <td>596.000000</td>\n      <td>161.000000</td>\n      <td>1980.000000</td>\n      <td>1.046312e+06</td>\n      <td>Nelson</td>\n      <td>Oakleigh South</td>\n      <td>14.7</td>\n      <td>-37.932000</td>\n      <td>145.082700</td>\n      <td>South-Eastern Metropolitan</td>\n    </tr>\n    <tr>\n      <th>1 Aberfeldie Wy</th>\n      <td>house</td>\n      <td>5.0</td>\n      <td>3.000000</td>\n      <td>2.000000</td>\n      <td>588.584711</td>\n      <td>217.000000</td>\n      <td>2005.000000</td>\n      <td>6.800000e+05</td>\n      <td>Barry</td>\n      <td>Caroline Springs</td>\n      <td>14.8</td>\n      <td>-37.727050</td>\n      <td>144.748560</td>\n      <td>Western Metropolitan</td>\n    </tr>\n    <tr>\n      <th>1 Acheron Av</th>\n      <td>house</td>\n      <td>3.0</td>\n      <td>1.608363</td>\n      <td>1.701148</td>\n      <td>588.584711</td>\n      <td>158.274673</td>\n      <td>1965.475409</td>\n      <td>8.900000e+05</td>\n      <td>hockingstuart</td>\n      <td>Reservoir</td>\n      <td>12.0</td>\n      <td>-37.811555</td>\n      <td>145.001695</td>\n      <td>Northern Metropolitan</td>\n    </tr>\n    <tr>\n      <th>1 Adelle Ct</th>\n      <td>house</td>\n      <td>3.0</td>\n      <td>2.000000</td>\n      <td>2.000000</td>\n      <td>820.000000</td>\n      <td>158.274673</td>\n      <td>1965.475409</td>\n      <td>1.700000e+06</td>\n      <td>Barry</td>\n      <td>Doncaster</td>\n      <td>13.9</td>\n      <td>-37.780300</td>\n      <td>145.124800</td>\n      <td>Eastern Metropolitan</td>\n    </tr>\n    <tr>\n      <th>1 Aintree Rd</th>\n      <td>house</td>\n      <td>4.0</td>\n      <td>3.000000</td>\n      <td>4.000000</td>\n      <td>349.000000</td>\n      <td>158.274673</td>\n      <td>1965.475409</td>\n      <td>1.046312e+06</td>\n      <td>Nelson</td>\n      <td>Glen Iris</td>\n      <td>9.2</td>\n      <td>-37.858000</td>\n      <td>145.043300</td>\n      <td>Southern Metropolitan</td>\n    </tr>\n  </tbody>\n</table>\n</div>"
     },
     "execution_count": 1,
     "metadata": {},
     "output_type": "execute_result"
    }
   ],
   "source": [
    "import pandas as pd\n",
    "\n",
    "df = pd.read_csv(\"housing_brez_nan.csv\", index_col=0, sep=\",\", decimal=\".\")\n",
    "df.head()"
   ]
  },
  {
   "cell_type": "code",
   "execution_count": 3,
   "outputs": [
    {
     "data": {
      "text/plain": "Type                  0\nRooms                 0\nBathroom              0\nCarSpots              0\nLandsize              0\nBuildingArea          0\nYearBuilt             0\nPrice                 0\nSellerG               0\nSuburb                0\nDistanceFromCenter    0\nLattitude             0\nLongtitude            0\nRegionname            0\ndtype: int64"
     },
     "execution_count": 3,
     "metadata": {},
     "output_type": "execute_result"
    }
   ],
   "source": [
    "df.isnull().sum()"
   ],
   "metadata": {
    "collapsed": false,
    "ExecuteTime": {
     "end_time": "2023-10-24T10:14:04.615853100Z",
     "start_time": "2023-10-24T10:14:04.514354600Z"
    }
   },
   "id": "970f5fdf9b8bbced"
  },
  {
   "cell_type": "code",
   "execution_count": 5,
   "outputs": [
    {
     "data": {
      "text/plain": "Type                   object\nRooms                 float64\nBathroom              float64\nCarSpots              float64\nLandsize              float64\nBuildingArea          float64\nYearBuilt             float64\nPrice                 float64\nSellerG                object\nSuburb                 object\nDistanceFromCenter    float64\nLattitude             float64\nLongtitude            float64\nRegionname             object\ndtype: object"
     },
     "execution_count": 5,
     "metadata": {},
     "output_type": "execute_result"
    }
   ],
   "source": [
    "df.dtypes"
   ],
   "metadata": {
    "collapsed": false,
    "ExecuteTime": {
     "end_time": "2023-10-24T10:14:21.784574200Z",
     "start_time": "2023-10-24T10:14:21.738862100Z"
    }
   },
   "id": "b60f5da521b6aedd"
  },
  {
   "cell_type": "code",
   "execution_count": 7,
   "outputs": [
    {
     "data": {
      "text/plain": "                   Type  Rooms  Bathroom  CarSpots    Landsize  BuildingArea  \\\n1 Abercrombie St  house    4.0  2.000000  2.000000  596.000000    161.000000   \n1 Aberfeldie Wy   house    5.0  3.000000  2.000000  588.584711    217.000000   \n1 Acheron Av      house    3.0  1.608363  1.701148  588.584711    158.274673   \n1 Adelle Ct       house    3.0  2.000000  2.000000  820.000000    158.274673   \n1 Aintree Rd      house    4.0  3.000000  4.000000  349.000000    158.274673   \n\n                    YearBuilt         Price  SellerG  Suburb  \\\n1 Abercrombie St  1980.000000  1.046312e+06      200     246   \n1 Aberfeldie Wy   2005.000000  6.800000e+05       22      68   \n1 Acheron Av      1965.475409  8.900000e+05      323     263   \n1 Adelle Ct       1965.475409  1.700000e+06       22     112   \n1 Aintree Rd      1965.475409  1.046312e+06      200     150   \n\n                  DistanceFromCenter  Lattitude  Longtitude  Regionname  \n1 Abercrombie St                14.7 -37.932000  145.082700           4  \n1 Aberfeldie Wy                 14.8 -37.727050  144.748560           6  \n1 Acheron Av                    12.0 -37.811555  145.001695           2  \n1 Adelle Ct                     13.9 -37.780300  145.124800           0  \n1 Aintree Rd                     9.2 -37.858000  145.043300           5  ",
      "text/html": "<div>\n<style scoped>\n    .dataframe tbody tr th:only-of-type {\n        vertical-align: middle;\n    }\n\n    .dataframe tbody tr th {\n        vertical-align: top;\n    }\n\n    .dataframe thead th {\n        text-align: right;\n    }\n</style>\n<table border=\"1\" class=\"dataframe\">\n  <thead>\n    <tr style=\"text-align: right;\">\n      <th></th>\n      <th>Type</th>\n      <th>Rooms</th>\n      <th>Bathroom</th>\n      <th>CarSpots</th>\n      <th>Landsize</th>\n      <th>BuildingArea</th>\n      <th>YearBuilt</th>\n      <th>Price</th>\n      <th>SellerG</th>\n      <th>Suburb</th>\n      <th>DistanceFromCenter</th>\n      <th>Lattitude</th>\n      <th>Longtitude</th>\n      <th>Regionname</th>\n    </tr>\n  </thead>\n  <tbody>\n    <tr>\n      <th>1 Abercrombie St</th>\n      <td>house</td>\n      <td>4.0</td>\n      <td>2.000000</td>\n      <td>2.000000</td>\n      <td>596.000000</td>\n      <td>161.000000</td>\n      <td>1980.000000</td>\n      <td>1.046312e+06</td>\n      <td>200</td>\n      <td>246</td>\n      <td>14.7</td>\n      <td>-37.932000</td>\n      <td>145.082700</td>\n      <td>4</td>\n    </tr>\n    <tr>\n      <th>1 Aberfeldie Wy</th>\n      <td>house</td>\n      <td>5.0</td>\n      <td>3.000000</td>\n      <td>2.000000</td>\n      <td>588.584711</td>\n      <td>217.000000</td>\n      <td>2005.000000</td>\n      <td>6.800000e+05</td>\n      <td>22</td>\n      <td>68</td>\n      <td>14.8</td>\n      <td>-37.727050</td>\n      <td>144.748560</td>\n      <td>6</td>\n    </tr>\n    <tr>\n      <th>1 Acheron Av</th>\n      <td>house</td>\n      <td>3.0</td>\n      <td>1.608363</td>\n      <td>1.701148</td>\n      <td>588.584711</td>\n      <td>158.274673</td>\n      <td>1965.475409</td>\n      <td>8.900000e+05</td>\n      <td>323</td>\n      <td>263</td>\n      <td>12.0</td>\n      <td>-37.811555</td>\n      <td>145.001695</td>\n      <td>2</td>\n    </tr>\n    <tr>\n      <th>1 Adelle Ct</th>\n      <td>house</td>\n      <td>3.0</td>\n      <td>2.000000</td>\n      <td>2.000000</td>\n      <td>820.000000</td>\n      <td>158.274673</td>\n      <td>1965.475409</td>\n      <td>1.700000e+06</td>\n      <td>22</td>\n      <td>112</td>\n      <td>13.9</td>\n      <td>-37.780300</td>\n      <td>145.124800</td>\n      <td>0</td>\n    </tr>\n    <tr>\n      <th>1 Aintree Rd</th>\n      <td>house</td>\n      <td>4.0</td>\n      <td>3.000000</td>\n      <td>4.000000</td>\n      <td>349.000000</td>\n      <td>158.274673</td>\n      <td>1965.475409</td>\n      <td>1.046312e+06</td>\n      <td>200</td>\n      <td>150</td>\n      <td>9.2</td>\n      <td>-37.858000</td>\n      <td>145.043300</td>\n      <td>5</td>\n    </tr>\n  </tbody>\n</table>\n</div>"
     },
     "execution_count": 7,
     "metadata": {},
     "output_type": "execute_result"
    }
   ],
   "source": [
    "from sklearn.preprocessing import LabelEncoder\n",
    "\n",
    "df_copy = df.copy(deep=True)\n",
    "kat = [\"SellerG\", \"Suburb\", \"Regionname\"]\n",
    "for k in kat:\n",
    "    df_copy[k] = LabelEncoder().fit_transform(df_copy[k]) # kategoričnim podatkom dajo stevilske vrednosti\n",
    "    \n",
    "df_copy.head()"
   ],
   "metadata": {
    "collapsed": false,
    "ExecuteTime": {
     "end_time": "2023-10-24T10:20:28.175850600Z",
     "start_time": "2023-10-24T10:20:28.136461600Z"
    }
   },
   "id": "267fa7e2256149b0"
  },
  {
   "cell_type": "code",
   "execution_count": 9,
   "outputs": [
    {
     "data": {
      "text/plain": "(30718, 702)"
     },
     "execution_count": 9,
     "metadata": {},
     "output_type": "execute_result"
    }
   ],
   "source": [
    "df_paste = pd.get_dummies(df, columns=kat)  # Kategoricne podatke spremeni v stoplce, ki so 0 ali 1\n",
    "df_paste.shape"
   ],
   "metadata": {
    "collapsed": false,
    "ExecuteTime": {
     "end_time": "2023-10-24T10:25:05.468161Z",
     "start_time": "2023-10-24T10:25:05.354409Z"
    }
   },
   "id": "bcd55f5417a50f2b"
  },
  {
   "cell_type": "code",
   "execution_count": 11,
   "outputs": [
    {
     "data": {
      "text/plain": "                   Type  Rooms  Bathroom  CarSpots    Landsize  BuildingArea  \\\n1 Abercrombie St  house    4.0  2.000000  2.000000  596.000000    161.000000   \n1 Aberfeldie Wy   house    5.0  3.000000  2.000000  588.584711    217.000000   \n1 Acheron Av      house    3.0  1.608363  1.701148  588.584711    158.274673   \n1 Adelle Ct       house    3.0  2.000000  2.000000  820.000000    158.274673   \n1 Aintree Rd      house    4.0  3.000000  4.000000  349.000000    158.274673   \n\n                    YearBuilt         Price  DistanceFromCenter  Lattitude  \\\n1 Abercrombie St  1980.000000  1.046312e+06                14.7 -37.932000   \n1 Aberfeldie Wy   2005.000000  6.800000e+05                14.8 -37.727050   \n1 Acheron Av      1965.475409  8.900000e+05                12.0 -37.811555   \n1 Adelle Ct       1965.475409  1.700000e+06                13.9 -37.780300   \n1 Aintree Rd      1965.475409  1.046312e+06                 9.2 -37.858000   \n\n                  ...  Suburb_croydon  Suburb_viewbank  \\\n1 Abercrombie St  ...           False            False   \n1 Aberfeldie Wy   ...           False            False   \n1 Acheron Av      ...           False            False   \n1 Adelle Ct       ...           False            False   \n1 Aintree Rd      ...           False            False   \n\n                  Regionname_Eastern Metropolitan  \\\n1 Abercrombie St                            False   \n1 Aberfeldie Wy                             False   \n1 Acheron Av                                False   \n1 Adelle Ct                                  True   \n1 Aintree Rd                                False   \n\n                  Regionname_Eastern Victoria  \\\n1 Abercrombie St                        False   \n1 Aberfeldie Wy                         False   \n1 Acheron Av                            False   \n1 Adelle Ct                             False   \n1 Aintree Rd                            False   \n\n                  Regionname_Northern Metropolitan  \\\n1 Abercrombie St                             False   \n1 Aberfeldie Wy                              False   \n1 Acheron Av                                  True   \n1 Adelle Ct                                  False   \n1 Aintree Rd                                 False   \n\n                  Regionname_Northern Victoria  \\\n1 Abercrombie St                         False   \n1 Aberfeldie Wy                          False   \n1 Acheron Av                             False   \n1 Adelle Ct                              False   \n1 Aintree Rd                             False   \n\n                  Regionname_South-Eastern Metropolitan  \\\n1 Abercrombie St                                   True   \n1 Aberfeldie Wy                                   False   \n1 Acheron Av                                      False   \n1 Adelle Ct                                       False   \n1 Aintree Rd                                      False   \n\n                  Regionname_Southern Metropolitan  \\\n1 Abercrombie St                             False   \n1 Aberfeldie Wy                              False   \n1 Acheron Av                                 False   \n1 Adelle Ct                                  False   \n1 Aintree Rd                                  True   \n\n                  Regionname_Western Metropolitan  Regionname_Western Victoria  \n1 Abercrombie St                            False                        False  \n1 Aberfeldie Wy                              True                        False  \n1 Acheron Av                                False                        False  \n1 Adelle Ct                                 False                        False  \n1 Aintree Rd                                False                        False  \n\n[5 rows x 702 columns]",
      "text/html": "<div>\n<style scoped>\n    .dataframe tbody tr th:only-of-type {\n        vertical-align: middle;\n    }\n\n    .dataframe tbody tr th {\n        vertical-align: top;\n    }\n\n    .dataframe thead th {\n        text-align: right;\n    }\n</style>\n<table border=\"1\" class=\"dataframe\">\n  <thead>\n    <tr style=\"text-align: right;\">\n      <th></th>\n      <th>Type</th>\n      <th>Rooms</th>\n      <th>Bathroom</th>\n      <th>CarSpots</th>\n      <th>Landsize</th>\n      <th>BuildingArea</th>\n      <th>YearBuilt</th>\n      <th>Price</th>\n      <th>DistanceFromCenter</th>\n      <th>Lattitude</th>\n      <th>...</th>\n      <th>Suburb_croydon</th>\n      <th>Suburb_viewbank</th>\n      <th>Regionname_Eastern Metropolitan</th>\n      <th>Regionname_Eastern Victoria</th>\n      <th>Regionname_Northern Metropolitan</th>\n      <th>Regionname_Northern Victoria</th>\n      <th>Regionname_South-Eastern Metropolitan</th>\n      <th>Regionname_Southern Metropolitan</th>\n      <th>Regionname_Western Metropolitan</th>\n      <th>Regionname_Western Victoria</th>\n    </tr>\n  </thead>\n  <tbody>\n    <tr>\n      <th>1 Abercrombie St</th>\n      <td>house</td>\n      <td>4.0</td>\n      <td>2.000000</td>\n      <td>2.000000</td>\n      <td>596.000000</td>\n      <td>161.000000</td>\n      <td>1980.000000</td>\n      <td>1.046312e+06</td>\n      <td>14.7</td>\n      <td>-37.932000</td>\n      <td>...</td>\n      <td>False</td>\n      <td>False</td>\n      <td>False</td>\n      <td>False</td>\n      <td>False</td>\n      <td>False</td>\n      <td>True</td>\n      <td>False</td>\n      <td>False</td>\n      <td>False</td>\n    </tr>\n    <tr>\n      <th>1 Aberfeldie Wy</th>\n      <td>house</td>\n      <td>5.0</td>\n      <td>3.000000</td>\n      <td>2.000000</td>\n      <td>588.584711</td>\n      <td>217.000000</td>\n      <td>2005.000000</td>\n      <td>6.800000e+05</td>\n      <td>14.8</td>\n      <td>-37.727050</td>\n      <td>...</td>\n      <td>False</td>\n      <td>False</td>\n      <td>False</td>\n      <td>False</td>\n      <td>False</td>\n      <td>False</td>\n      <td>False</td>\n      <td>False</td>\n      <td>True</td>\n      <td>False</td>\n    </tr>\n    <tr>\n      <th>1 Acheron Av</th>\n      <td>house</td>\n      <td>3.0</td>\n      <td>1.608363</td>\n      <td>1.701148</td>\n      <td>588.584711</td>\n      <td>158.274673</td>\n      <td>1965.475409</td>\n      <td>8.900000e+05</td>\n      <td>12.0</td>\n      <td>-37.811555</td>\n      <td>...</td>\n      <td>False</td>\n      <td>False</td>\n      <td>False</td>\n      <td>False</td>\n      <td>True</td>\n      <td>False</td>\n      <td>False</td>\n      <td>False</td>\n      <td>False</td>\n      <td>False</td>\n    </tr>\n    <tr>\n      <th>1 Adelle Ct</th>\n      <td>house</td>\n      <td>3.0</td>\n      <td>2.000000</td>\n      <td>2.000000</td>\n      <td>820.000000</td>\n      <td>158.274673</td>\n      <td>1965.475409</td>\n      <td>1.700000e+06</td>\n      <td>13.9</td>\n      <td>-37.780300</td>\n      <td>...</td>\n      <td>False</td>\n      <td>False</td>\n      <td>True</td>\n      <td>False</td>\n      <td>False</td>\n      <td>False</td>\n      <td>False</td>\n      <td>False</td>\n      <td>False</td>\n      <td>False</td>\n    </tr>\n    <tr>\n      <th>1 Aintree Rd</th>\n      <td>house</td>\n      <td>4.0</td>\n      <td>3.000000</td>\n      <td>4.000000</td>\n      <td>349.000000</td>\n      <td>158.274673</td>\n      <td>1965.475409</td>\n      <td>1.046312e+06</td>\n      <td>9.2</td>\n      <td>-37.858000</td>\n      <td>...</td>\n      <td>False</td>\n      <td>False</td>\n      <td>False</td>\n      <td>False</td>\n      <td>False</td>\n      <td>False</td>\n      <td>False</td>\n      <td>True</td>\n      <td>False</td>\n      <td>False</td>\n    </tr>\n  </tbody>\n</table>\n<p>5 rows × 702 columns</p>\n</div>"
     },
     "execution_count": 11,
     "metadata": {},
     "output_type": "execute_result"
    }
   ],
   "source": [
    "df_paste.head()"
   ],
   "metadata": {
    "collapsed": false,
    "ExecuteTime": {
     "end_time": "2023-10-24T10:26:46.866986500Z",
     "start_time": "2023-10-24T10:26:46.804612100Z"
    }
   },
   "id": "bec5834cd872e43b"
  },
  {
   "cell_type": "code",
   "execution_count": 12,
   "outputs": [
    {
     "name": "stdout",
     "output_type": "stream",
     "text": [
      "0.7365397161911932\n"
     ]
    }
   ],
   "source": [
    "from sklearn.neighbors import KNeighborsClassifier\n",
    "from sklearn.model_selection import cross_val_score, StratifiedKFold\n",
    "\n",
    "izhod = \"Type\"\n",
    "\n",
    "df_izhod = df_copy[izhod]\n",
    "df_vhod = df_copy.drop(izhod, axis=1)\n",
    "\n",
    "kfold = StratifiedKFold(n_splits=5)\n",
    "rez = cross_val_score(KNeighborsClassifier(n_neighbors=5), df_vhod, df_izhod, cv=kfold, scoring=\"accuracy\")\n",
    "\n",
    "print(rez.mean())   # Povprečje, drugače bi jih izpisalo pet (n_splits=5)"
   ],
   "metadata": {
    "collapsed": false,
    "ExecuteTime": {
     "end_time": "2023-10-24T10:33:39.970571800Z",
     "start_time": "2023-10-24T10:33:38.181037700Z"
    }
   },
   "id": "3359d9c14c426b2d"
  },
  {
   "cell_type": "code",
   "execution_count": 13,
   "outputs": [
    {
     "name": "stdout",
     "output_type": "stream",
     "text": [
      "0.7551609386022029\n"
     ]
    }
   ],
   "source": [
    "df_izhod = df_paste[izhod]\n",
    "df_vhod = df_paste.drop(izhod, axis=1)\n",
    "\n",
    "kfold = StratifiedKFold(n_splits=5)\n",
    "rez = cross_val_score(KNeighborsClassifier(n_neighbors=5), df_vhod, df_izhod, cv=kfold, scoring=\"accuracy\")\n",
    "\n",
    "print(rez.mean()) "
   ],
   "metadata": {
    "collapsed": false,
    "ExecuteTime": {
     "end_time": "2023-10-24T10:34:26.909515300Z",
     "start_time": "2023-10-24T10:34:17.257611500Z"
    }
   },
   "id": "db77fc1876fb8e7"
  },
  {
   "cell_type": "code",
   "execution_count": 17,
   "outputs": [
    {
     "name": "stderr",
     "output_type": "stream",
     "text": [
      "C:\\Users\\vzupanic\\AppData\\Local\\Temp\\ipykernel_13876\\3794070308.py:5: UserWarning: \n",
      "\n",
      "`distplot` is a deprecated function and will be removed in seaborn v0.14.0.\n",
      "\n",
      "Please adapt your code to use either `displot` (a figure-level function with\n",
      "similar flexibility) or `histplot` (an axes-level function for histograms).\n",
      "\n",
      "For a guide to updating your code to use the new functions, please see\n",
      "https://gist.github.com/mwaskom/de44147ed2974457ad6372750bbe5751\n",
      "\n",
      "  sns.distplot(df.Price) # Vidi se slaba porazdelitev\n"
     ]
    },
    {
     "data": {
      "text/plain": "<Axes: xlabel='Price', ylabel='Density'>"
     },
     "execution_count": 17,
     "metadata": {},
     "output_type": "execute_result"
    },
    {
     "data": {
      "text/plain": "<Figure size 640x480 with 1 Axes>",
      "image/png": "[encoded data removed]"
     },
     "metadata": {},
     "output_type": "display_data"
    }
   ],
   "source": [
    "ste = df.select_dtypes(exclude=[\"object\"]).columns\n",
    "\n",
    "import seaborn as sns\n",
    "\n",
    "sns.distplot(df.Price) # Vidi se slaba porazdelitev"
   ],
   "metadata": {
    "collapsed": false,
    "ExecuteTime": {
     "end_time": "2023-10-24T10:43:16.294444700Z",
     "start_time": "2023-10-24T10:43:15.925278300Z"
    }
   },
   "id": "19031cb6b5943f6c"
  },
  {
   "cell_type": "code",
   "execution_count": 18,
   "outputs": [
    {
     "data": {
      "text/plain": "                   Type     Rooms  Bathroom      CarSpots  Landsize  \\\n1 Abercrombie St  house  1.012406  0.620026  3.427628e-01  0.002568   \n1 Aberfeldie Wy   house  2.040577  2.203190  3.427628e-01  0.000000   \n1 Acheron Av      house -0.015765  0.000000 -2.546699e-16  0.000000   \n1 Adelle Ct       house -0.015765  0.620026  3.427628e-01  0.080154   \n1 Aintree Rd      house  1.012406  2.203190  2.636625e+00 -0.082984   \n\n                  BuildingArea     YearBuilt         Price  \\\n1 Abercrombie St  1.026643e-02  5.783189e-01 -2.045003e-16   \n1 Aberfeldie Wy   2.212209e-01  1.573732e+00 -6.434801e-01   \n1 Acheron Av      1.070658e-16  1.810646e-14 -2.745847e-01   \n1 Adelle Ct       1.070658e-16  1.810646e-14  1.148297e+00   \n1 Aintree Rd      1.070658e-16  1.810646e-14 -2.045003e-16   \n\n                  DistanceFromCenter  Lattitude  ...  Suburb_croydon  \\\n1 Abercrombie St            0.539268  -1.540556  ...           False   \n1 Aberfeldie Wy             0.554158   1.080872  ...           False   \n1 Acheron Av                0.137263   0.000000  ...           False   \n1 Adelle Ct                 0.420156   0.399774  ...           False   \n1 Aintree Rd               -0.279632  -0.594054  ...           False   \n\n                  Suburb_viewbank  Regionname_Eastern Metropolitan  \\\n1 Abercrombie St            False                            False   \n1 Aberfeldie Wy             False                            False   \n1 Acheron Av                False                            False   \n1 Adelle Ct                 False                             True   \n1 Aintree Rd                False                            False   \n\n                  Regionname_Eastern Victoria  \\\n1 Abercrombie St                        False   \n1 Aberfeldie Wy                         False   \n1 Acheron Av                            False   \n1 Adelle Ct                             False   \n1 Aintree Rd                            False   \n\n                  Regionname_Northern Metropolitan  \\\n1 Abercrombie St                             False   \n1 Aberfeldie Wy                              False   \n1 Acheron Av                                  True   \n1 Adelle Ct                                  False   \n1 Aintree Rd                                 False   \n\n                  Regionname_Northern Victoria  \\\n1 Abercrombie St                         False   \n1 Aberfeldie Wy                          False   \n1 Acheron Av                             False   \n1 Adelle Ct                              False   \n1 Aintree Rd                             False   \n\n                  Regionname_South-Eastern Metropolitan  \\\n1 Abercrombie St                                   True   \n1 Aberfeldie Wy                                   False   \n1 Acheron Av                                      False   \n1 Adelle Ct                                       False   \n1 Aintree Rd                                      False   \n\n                  Regionname_Southern Metropolitan  \\\n1 Abercrombie St                             False   \n1 Aberfeldie Wy                              False   \n1 Acheron Av                                 False   \n1 Adelle Ct                                  False   \n1 Aintree Rd                                  True   \n\n                  Regionname_Western Metropolitan  Regionname_Western Victoria  \n1 Abercrombie St                            False                        False  \n1 Aberfeldie Wy                              True                        False  \n1 Acheron Av                                False                        False  \n1 Adelle Ct                                 False                        False  \n1 Aintree Rd                                False                        False  \n\n[5 rows x 702 columns]",
      "text/html": "<div>\n<style scoped>\n    .dataframe tbody tr th:only-of-type {\n        vertical-align: middle;\n    }\n\n    .dataframe tbody tr th {\n        vertical-align: top;\n    }\n\n    .dataframe thead th {\n        text-align: right;\n    }\n</style>\n<table border=\"1\" class=\"dataframe\">\n  <thead>\n    <tr style=\"text-align: right;\">\n      <th></th>\n      <th>Type</th>\n      <th>Rooms</th>\n      <th>Bathroom</th>\n      <th>CarSpots</th>\n      <th>Landsize</th>\n      <th>BuildingArea</th>\n      <th>YearBuilt</th>\n      <th>Price</th>\n      <th>DistanceFromCenter</th>\n      <th>Lattitude</th>\n      <th>...</th>\n      <th>Suburb_croydon</th>\n      <th>Suburb_viewbank</th>\n      <th>Regionname_Eastern Metropolitan</th>\n      <th>Regionname_Eastern Victoria</th>\n      <th>Regionname_Northern Metropolitan</th>\n      <th>Regionname_Northern Victoria</th>\n      <th>Regionname_South-Eastern Metropolitan</th>\n      <th>Regionname_Southern Metropolitan</th>\n      <th>Regionname_Western Metropolitan</th>\n      <th>Regionname_Western Victoria</th>\n    </tr>\n  </thead>\n  <tbody>\n    <tr>\n      <th>1 Abercrombie St</th>\n      <td>house</td>\n      <td>1.012406</td>\n      <td>0.620026</td>\n      <td>3.427628e-01</td>\n      <td>0.002568</td>\n      <td>1.026643e-02</td>\n      <td>5.783189e-01</td>\n      <td>-2.045003e-16</td>\n      <td>0.539268</td>\n      <td>-1.540556</td>\n      <td>...</td>\n      <td>False</td>\n      <td>False</td>\n      <td>False</td>\n      <td>False</td>\n      <td>False</td>\n      <td>False</td>\n      <td>True</td>\n      <td>False</td>\n      <td>False</td>\n      <td>False</td>\n    </tr>\n    <tr>\n      <th>1 Aberfeldie Wy</th>\n      <td>house</td>\n      <td>2.040577</td>\n      <td>2.203190</td>\n      <td>3.427628e-01</td>\n      <td>0.000000</td>\n      <td>2.212209e-01</td>\n      <td>1.573732e+00</td>\n      <td>-6.434801e-01</td>\n      <td>0.554158</td>\n      <td>1.080872</td>\n      <td>...</td>\n      <td>False</td>\n      <td>False</td>\n      <td>False</td>\n      <td>False</td>\n      <td>False</td>\n      <td>False</td>\n      <td>False</td>\n      <td>False</td>\n      <td>True</td>\n      <td>False</td>\n    </tr>\n    <tr>\n      <th>1 Acheron Av</th>\n      <td>house</td>\n      <td>-0.015765</td>\n      <td>0.000000</td>\n      <td>-2.546699e-16</td>\n      <td>0.000000</td>\n      <td>1.070658e-16</td>\n      <td>1.810646e-14</td>\n      <td>-2.745847e-01</td>\n      <td>0.137263</td>\n      <td>0.000000</td>\n      <td>...</td>\n      <td>False</td>\n      <td>False</td>\n      <td>False</td>\n      <td>False</td>\n      <td>True</td>\n      <td>False</td>\n      <td>False</td>\n      <td>False</td>\n      <td>False</td>\n      <td>False</td>\n    </tr>\n    <tr>\n      <th>1 Adelle Ct</th>\n      <td>house</td>\n      <td>-0.015765</td>\n      <td>0.620026</td>\n      <td>3.427628e-01</td>\n      <td>0.080154</td>\n      <td>1.070658e-16</td>\n      <td>1.810646e-14</td>\n      <td>1.148297e+00</td>\n      <td>0.420156</td>\n      <td>0.399774</td>\n      <td>...</td>\n      <td>False</td>\n      <td>False</td>\n      <td>True</td>\n      <td>False</td>\n      <td>False</td>\n      <td>False</td>\n      <td>False</td>\n      <td>False</td>\n      <td>False</td>\n      <td>False</td>\n    </tr>\n    <tr>\n      <th>1 Aintree Rd</th>\n      <td>house</td>\n      <td>1.012406</td>\n      <td>2.203190</td>\n      <td>2.636625e+00</td>\n      <td>-0.082984</td>\n      <td>1.070658e-16</td>\n      <td>1.810646e-14</td>\n      <td>-2.045003e-16</td>\n      <td>-0.279632</td>\n      <td>-0.594054</td>\n      <td>...</td>\n      <td>False</td>\n      <td>False</td>\n      <td>False</td>\n      <td>False</td>\n      <td>False</td>\n      <td>False</td>\n      <td>False</td>\n      <td>True</td>\n      <td>False</td>\n      <td>False</td>\n    </tr>\n  </tbody>\n</table>\n<p>5 rows × 702 columns</p>\n</div>"
     },
     "execution_count": 18,
     "metadata": {},
     "output_type": "execute_result"
    }
   ],
   "source": [
    "from sklearn.preprocessing import StandardScaler\n",
    "\n",
    "df_paste[ste] = StandardScaler().fit_transform(df_paste[ste])\n",
    "df_paste.head()"
   ],
   "metadata": {
    "collapsed": false,
    "ExecuteTime": {
     "end_time": "2023-10-24T10:45:16.745539800Z",
     "start_time": "2023-10-24T10:45:16.632630900Z"
    }
   },
   "id": "1ef6a22417b17f16"
  },
  {
   "cell_type": "code",
   "execution_count": 20,
   "outputs": [
    {
     "name": "stdout",
     "output_type": "stream",
     "text": [
      "0.8184138757613679\n"
     ]
    }
   ],
   "source": [
    "df_izhod = df_paste[izhod]\n",
    "df_vhod = df_paste.drop(izhod, axis=1)\n",
    "\n",
    "kfold = StratifiedKFold(n_splits=5)\n",
    "rez = cross_val_score(KNeighborsClassifier(n_neighbors=5), df_vhod, df_izhod, cv=kfold, scoring=\"accuracy\")\n",
    "print(rez.mean())"
   ],
   "metadata": {
    "collapsed": false,
    "ExecuteTime": {
     "end_time": "2023-10-24T10:48:12.925443400Z",
     "start_time": "2023-10-24T10:48:04.317236200Z"
    }
   },
   "id": "70dfe8650e0fa3d1"
  },
  {
   "cell_type": "code",
   "execution_count": null,
   "outputs": [],
   "source": [
    "from sklearn.model_selection import GridSearchCV\n",
    "\n",
    "params = {\n",
    "    \"n_neighbors\": [1, 3],\n",
    "    \"algorithm\": [\"ball_tree\", \"kd_tree\"]\n",
    "}\n",
    "\n",
    "grid_k = GridSearchCV(KNeighborsClassifier(), params, cv=10, scoring=\"accuracy\")\n",
    "grid_k.fit(df_vhod, df_izhod)\n",
    "print(grid_k.best_params_)\n",
    "print(grid_k.best_score_)\n",
    "print(grid_k.best_estimator_)"
   ],
   "metadata": {
    "collapsed": false,
    "is_executing": true,
    "ExecuteTime": {
     "start_time": "2023-10-24T11:02:16.312457700Z"
    }
   },
   "id": "799c289e01c7c8ac"
  },
  {
   "cell_type": "code",
   "execution_count": null,
   "outputs": [],
   "source": [
    "from sklearn.model_selection import RandomizedSearchCV\n",
    "from scipy.stats import randint\n",
    "\n",
    "params = {\n",
    "    \"n_neighbors\": randint(1, 10),\n",
    "    \"algorithm\": [\"ball_tree\", \"kd_tree\"]\n",
    "}\n",
    "\n",
    "rand = RandomizedSearchCV(KNeighborsClassifier(), params, cv=10, n_iter=10 ,scoring=\"accuracy\")\n",
    "rand.fit(df_vhod, df_izhod)\n",
    "print(rand.best_params_)\n",
    "print(rand.best_score_)\n",
    "print(rand.best_estimator_)"
   ],
   "metadata": {
    "collapsed": false,
    "ExecuteTime": {
     "end_time": "2023-10-24T11:02:09.189192Z",
     "start_time": "2023-10-24T11:02:09.189192Z"
    }
   },
   "id": "6ee232b95f379037"
  }
 ],
 "metadata": {
  "kernelspec": {
   "display_name": "Python 3",
   "language": "python",
   "name": "python3"
  },
  "language_info": {
   "codemirror_mode": {
    "name": "ipython",
    "version": 2
   },
   "file_extension": ".py",
   "mimetype": "text/x-python",
   "name": "python",
   "nbconvert_exporter": "python",
   "pygments_lexer": "ipython2",
   "version": "2.7.6"
  }
 },
 "nbformat": 4,
 "nbformat_minor": 5
}
