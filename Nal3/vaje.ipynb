{
 "cells": [
  {
   "cell_type": "code",
   "execution_count": 22,
   "id": "initial_id",
   "metadata": {
    "collapsed": true,
    "ExecuteTime": {
     "end_time": "2023-10-17T10:22:30.546137100Z",
     "start_time": "2023-10-17T10:22:30.526724400Z"
    }
   },
   "outputs": [
    {
     "ename": "SyntaxError",
     "evalue": "invalid syntax (1739901031.py, line 3)",
     "output_type": "error",
     "traceback": [
      "\u001B[1;36m  Cell \u001B[1;32mIn[22], line 3\u001B[1;36m\u001B[0m\n\u001B[1;33m    import scikit-learn\u001B[0m\n\u001B[1;37m                 ^\u001B[0m\n\u001B[1;31mSyntaxError\u001B[0m\u001B[1;31m:\u001B[0m invalid syntax\n"
     ]
    }
   ],
   "source": [
    "import pandas as pd\n",
    "import seaborn as sns"
   ]
  },
  {
   "cell_type": "code",
   "execution_count": 4,
   "outputs": [
    {
     "data": {
      "text/plain": "                                              Country  Number_students  \\\nUniversity of Oxford                   United Kingdom           20.664   \nCalifornia Institute of Technology      United States            2.240   \nUniversity of Cambridge                United Kingdom           18.978   \nStanford University                     United States           16.135   \nMassachusetts Institute of Technology   United States           11.247   \n\n                                       Numb_students_per_Staff  Score_Result  \\\nUniversity of Oxford                                      11.2          95.4   \nCalifornia Institute of Technology                         6.4          94.5   \nUniversity of Cambridge                                   10.9          94.4   \nStanford University                                        7.3          94.3   \nMassachusetts Institute of Technology                      8.6          93.6   \n\n                                       Rank  International_Students(%)  \\\nUniversity of Oxford                      1                       41.0   \nCalifornia Institute of Technology        2                       30.0   \nUniversity of Cambridge                   3                       37.0   \nStanford University                       4                        NaN   \nMassachusetts Institute of Technology     5                       34.0   \n\n                                       Percentage_Female(%)  \\\nUniversity of Oxford                                   46.0   \nCalifornia Institute of Technology                      NaN   \nUniversity of Cambridge                                47.0   \nStanford University                                    43.0   \nMassachusetts Institute of Technology                  39.0   \n\n                                       Percentage_Male(%)  Teaching  Research  \\\nUniversity of Oxford                                 54.0      90.5      99.6   \nCalifornia Institute of Technology                   66.0      92.1      97.2   \nUniversity of Cambridge                              53.0      91.4      98.7   \nStanford University                                  57.0      92.8      96.4   \nMassachusetts Institute of Technology                61.0      90.5      92.4   \n\n                                       Citations  Industry_Income  \\\nUniversity of Oxford                        98.4             65.5   \nCalifornia Institute of Technology          97.9             88.0   \nUniversity of Cambridge                     95.8             59.3   \nStanford University                         99.9             66.2   \nMassachusetts Institute of Technology       99.5             86.9   \n\n                                      International_Outlook  \nUniversity of Oxford                              excellent  \nCalifornia Institute of Technology                excellent  \nUniversity of Cambridge                           excellent  \nStanford University                               excellent  \nMassachusetts Institute of Technology             excellent  ",
      "text/html": "<div>\n<style scoped>\n    .dataframe tbody tr th:only-of-type {\n        vertical-align: middle;\n    }\n\n    .dataframe tbody tr th {\n        vertical-align: top;\n    }\n\n    .dataframe thead th {\n        text-align: right;\n    }\n</style>\n<table border=\"1\" class=\"dataframe\">\n  <thead>\n    <tr style=\"text-align: right;\">\n      <th></th>\n      <th>Country</th>\n      <th>Number_students</th>\n      <th>Numb_students_per_Staff</th>\n      <th>Score_Result</th>\n      <th>Rank</th>\n      <th>International_Students(%)</th>\n      <th>Percentage_Female(%)</th>\n      <th>Percentage_Male(%)</th>\n      <th>Teaching</th>\n      <th>Research</th>\n      <th>Citations</th>\n      <th>Industry_Income</th>\n      <th>International_Outlook</th>\n    </tr>\n  </thead>\n  <tbody>\n    <tr>\n      <th>University of Oxford</th>\n      <td>United Kingdom</td>\n      <td>20.664</td>\n      <td>11.2</td>\n      <td>95.4</td>\n      <td>1</td>\n      <td>41.0</td>\n      <td>46.0</td>\n      <td>54.0</td>\n      <td>90.5</td>\n      <td>99.6</td>\n      <td>98.4</td>\n      <td>65.5</td>\n      <td>excellent</td>\n    </tr>\n    <tr>\n      <th>California Institute of Technology</th>\n      <td>United States</td>\n      <td>2.240</td>\n      <td>6.4</td>\n      <td>94.5</td>\n      <td>2</td>\n      <td>30.0</td>\n      <td>NaN</td>\n      <td>66.0</td>\n      <td>92.1</td>\n      <td>97.2</td>\n      <td>97.9</td>\n      <td>88.0</td>\n      <td>excellent</td>\n    </tr>\n    <tr>\n      <th>University of Cambridge</th>\n      <td>United Kingdom</td>\n      <td>18.978</td>\n      <td>10.9</td>\n      <td>94.4</td>\n      <td>3</td>\n      <td>37.0</td>\n      <td>47.0</td>\n      <td>53.0</td>\n      <td>91.4</td>\n      <td>98.7</td>\n      <td>95.8</td>\n      <td>59.3</td>\n      <td>excellent</td>\n    </tr>\n    <tr>\n      <th>Stanford University</th>\n      <td>United States</td>\n      <td>16.135</td>\n      <td>7.3</td>\n      <td>94.3</td>\n      <td>4</td>\n      <td>NaN</td>\n      <td>43.0</td>\n      <td>57.0</td>\n      <td>92.8</td>\n      <td>96.4</td>\n      <td>99.9</td>\n      <td>66.2</td>\n      <td>excellent</td>\n    </tr>\n    <tr>\n      <th>Massachusetts Institute of Technology</th>\n      <td>United States</td>\n      <td>11.247</td>\n      <td>8.6</td>\n      <td>93.6</td>\n      <td>5</td>\n      <td>34.0</td>\n      <td>39.0</td>\n      <td>61.0</td>\n      <td>90.5</td>\n      <td>92.4</td>\n      <td>99.5</td>\n      <td>86.9</td>\n      <td>excellent</td>\n    </tr>\n  </tbody>\n</table>\n</div>"
     },
     "execution_count": 4,
     "metadata": {},
     "output_type": "execute_result"
    }
   ],
   "source": [
    "df_2020 = pd.read_csv(\"../Nal2/university_rank_2020.csv\", index_col=0, sep=\",\", decimal=\".\")\n",
    "df_students = pd.read_excel(\"../Nal2/university_rank_students.xlsx\", index_col=0, sheet_name=0)\n",
    "df_other = pd.read_csv(\"../Nal2/university_rank_other.csv\", index_col=0, sep=\" \", decimal=\".\")\n",
    "df = pd.concat([df_2020, df_students, df_other], axis=1)\n",
    "df.head()"
   ],
   "metadata": {
    "collapsed": false,
    "ExecuteTime": {
     "end_time": "2023-10-17T10:09:45.930715100Z",
     "start_time": "2023-10-17T10:09:45.780106600Z"
    }
   },
   "id": "98f8e4c41bcfc6fb"
  },
  {
   "cell_type": "code",
   "execution_count": 7,
   "outputs": [
    {
     "data": {
      "text/plain": "(1396, 13)"
     },
     "execution_count": 7,
     "metadata": {},
     "output_type": "execute_result"
    }
   ],
   "source": [
    "df.shape"
   ],
   "metadata": {
    "collapsed": false,
    "ExecuteTime": {
     "end_time": "2023-10-17T10:10:28.251248800Z",
     "start_time": "2023-10-17T10:10:28.235127Z"
    }
   },
   "id": "a60ea15458830869"
  },
  {
   "cell_type": "code",
   "execution_count": 15,
   "outputs": [
    {
     "data": {
      "text/plain": "Type                   object\nRooms                   int64\nBathroom              float64\nCarSpots              float64\nLandsize              float64\nBuildingArea          float64\nYearBuilt             float64\nPrice                 float64\nSellerG                object\nDateSold               object\nSuburb                 object\nDistanceFromCenter    float64\nLattitude             float64\nLongtitude            float64\nRegionname             object\ndtype: object"
     },
     "execution_count": 15,
     "metadata": {},
     "output_type": "execute_result"
    }
   ],
   "source": [
    "df_housing = pd.read_csv(\"housing.csv\", index_col=0, sep=\",\", decimal=\".\")\n",
    "df_housing.dtypes"
   ],
   "metadata": {
    "collapsed": false,
    "ExecuteTime": {
     "end_time": "2023-10-17T10:16:54.826640Z",
     "start_time": "2023-10-17T10:16:54.737287Z"
    }
   },
   "id": "99f05aa7ba13e6e6"
  },
  {
   "cell_type": "code",
   "execution_count": 16,
   "outputs": [
    {
     "data": {
      "text/plain": "Type                   object\nRooms                   int64\nBathroom              float64\nCarSpots              float64\nLandsize              float64\nBuildingArea          float64\nYearBuilt             float64\nPrice                 float64\nSellerG                object\nSuburb                 object\nDistanceFromCenter    float64\nLattitude             float64\nLongtitude            float64\nRegionname             object\ndtype: object"
     },
     "execution_count": 16,
     "metadata": {},
     "output_type": "execute_result"
    }
   ],
   "source": [
    "df_housing.drop(\"DateSold\", axis=1, inplace=True)\n",
    "df_housing.dtypes"
   ],
   "metadata": {
    "collapsed": false,
    "ExecuteTime": {
     "end_time": "2023-10-17T10:16:55.390000800Z",
     "start_time": "2023-10-17T10:16:55.379452600Z"
    }
   },
   "id": "2ca37219005f4692"
  },
  {
   "cell_type": "code",
   "execution_count": 18,
   "outputs": [
    {
     "data": {
      "text/plain": "                   Type  Rooms  Bathroom  CarSpots  Landsize  BuildingArea  \\\n1 Abercrombie St  house      4       2.0       2.0     596.0         161.0   \n1 Aberfeldie Wy   house      5       3.0       2.0       NaN         217.0   \n1 Acheron Av      house      3       NaN       NaN       NaN           NaN   \n1 Adelle Ct       house      3       2.0       2.0     820.0           NaN   \n1 Aintree Rd      house      4       3.0       4.0     349.0           NaN   \n\n                  YearBuilt      Price        SellerG            Suburb  \\\n1 Abercrombie St     1980.0        NaN            NaN    Oakleigh South   \n1 Aberfeldie Wy      2005.0   680000.0          Barry  Caroline Springs   \n1 Acheron Av            NaN   890000.0  hockingstuart         Reservoir   \n1 Adelle Ct             NaN  1700000.0          Barry         Doncaster   \n1 Aintree Rd            NaN        NaN            NaN         Glen Iris   \n\n                  DistanceFromCenter  Lattitude  Longtitude  \\\n1 Abercrombie St                14.7  -37.93200   145.08270   \n1 Aberfeldie Wy                 14.8  -37.72705   144.74856   \n1 Acheron Av                    12.0        NaN         NaN   \n1 Adelle Ct                     13.9  -37.78030   145.12480   \n1 Aintree Rd                     9.2  -37.85800   145.04330   \n\n                                  Regionname  \n1 Abercrombie St  South-Eastern Metropolitan  \n1 Aberfeldie Wy         Western Metropolitan  \n1 Acheron Av           Northern Metropolitan  \n1 Adelle Ct             Eastern Metropolitan  \n1 Aintree Rd           Southern Metropolitan  ",
      "text/html": "<div>\n<style scoped>\n    .dataframe tbody tr th:only-of-type {\n        vertical-align: middle;\n    }\n\n    .dataframe tbody tr th {\n        vertical-align: top;\n    }\n\n    .dataframe thead th {\n        text-align: right;\n    }\n</style>\n<table border=\"1\" class=\"dataframe\">\n  <thead>\n    <tr style=\"text-align: right;\">\n      <th></th>\n      <th>Type</th>\n      <th>Rooms</th>\n      <th>Bathroom</th>\n      <th>CarSpots</th>\n      <th>Landsize</th>\n      <th>BuildingArea</th>\n      <th>YearBuilt</th>\n      <th>Price</th>\n      <th>SellerG</th>\n      <th>Suburb</th>\n      <th>DistanceFromCenter</th>\n      <th>Lattitude</th>\n      <th>Longtitude</th>\n      <th>Regionname</th>\n    </tr>\n  </thead>\n  <tbody>\n    <tr>\n      <th>1 Abercrombie St</th>\n      <td>house</td>\n      <td>4</td>\n      <td>2.0</td>\n      <td>2.0</td>\n      <td>596.0</td>\n      <td>161.0</td>\n      <td>1980.0</td>\n      <td>NaN</td>\n      <td>NaN</td>\n      <td>Oakleigh South</td>\n      <td>14.7</td>\n      <td>-37.93200</td>\n      <td>145.08270</td>\n      <td>South-Eastern Metropolitan</td>\n    </tr>\n    <tr>\n      <th>1 Aberfeldie Wy</th>\n      <td>house</td>\n      <td>5</td>\n      <td>3.0</td>\n      <td>2.0</td>\n      <td>NaN</td>\n      <td>217.0</td>\n      <td>2005.0</td>\n      <td>680000.0</td>\n      <td>Barry</td>\n      <td>Caroline Springs</td>\n      <td>14.8</td>\n      <td>-37.72705</td>\n      <td>144.74856</td>\n      <td>Western Metropolitan</td>\n    </tr>\n    <tr>\n      <th>1 Acheron Av</th>\n      <td>house</td>\n      <td>3</td>\n      <td>NaN</td>\n      <td>NaN</td>\n      <td>NaN</td>\n      <td>NaN</td>\n      <td>NaN</td>\n      <td>890000.0</td>\n      <td>hockingstuart</td>\n      <td>Reservoir</td>\n      <td>12.0</td>\n      <td>NaN</td>\n      <td>NaN</td>\n      <td>Northern Metropolitan</td>\n    </tr>\n    <tr>\n      <th>1 Adelle Ct</th>\n      <td>house</td>\n      <td>3</td>\n      <td>2.0</td>\n      <td>2.0</td>\n      <td>820.0</td>\n      <td>NaN</td>\n      <td>NaN</td>\n      <td>1700000.0</td>\n      <td>Barry</td>\n      <td>Doncaster</td>\n      <td>13.9</td>\n      <td>-37.78030</td>\n      <td>145.12480</td>\n      <td>Eastern Metropolitan</td>\n    </tr>\n    <tr>\n      <th>1 Aintree Rd</th>\n      <td>house</td>\n      <td>4</td>\n      <td>3.0</td>\n      <td>4.0</td>\n      <td>349.0</td>\n      <td>NaN</td>\n      <td>NaN</td>\n      <td>NaN</td>\n      <td>NaN</td>\n      <td>Glen Iris</td>\n      <td>9.2</td>\n      <td>-37.85800</td>\n      <td>145.04330</td>\n      <td>Southern Metropolitan</td>\n    </tr>\n  </tbody>\n</table>\n</div>"
     },
     "execution_count": 18,
     "metadata": {},
     "output_type": "execute_result"
    }
   ],
   "source": [
    "df_housing.head()"
   ],
   "metadata": {
    "collapsed": false,
    "ExecuteTime": {
     "end_time": "2023-10-17T10:17:44.770869600Z",
     "start_time": "2023-10-17T10:17:44.733837400Z"
    }
   },
   "id": "90af8d48eef1c30d"
  },
  {
   "cell_type": "code",
   "execution_count": 24,
   "outputs": [
    {
     "name": "stdout",
     "output_type": "stream",
     "text": [
      "Index(['Rooms', 'Bathroom', 'CarSpots', 'Landsize', 'BuildingArea',\n",
      "       'YearBuilt', 'Price', 'DistanceFromCenter', 'Lattitude', 'Longtitude'],\n",
      "      dtype='object')\n"
     ]
    }
   ],
   "source": [
    "stevilski = df_housing.select_dtypes(exclude=[\"object\"]).columns\n",
    "print(stevilski)"
   ],
   "metadata": {
    "collapsed": false,
    "ExecuteTime": {
     "end_time": "2023-10-17T10:23:07.771415600Z",
     "start_time": "2023-10-17T10:23:07.755782900Z"
    }
   },
   "id": "27586e0d3df93627"
  },
  {
   "cell_type": "code",
   "execution_count": 25,
   "outputs": [
    {
     "name": "stdout",
     "output_type": "stream",
     "text": [
      "Index(['Type', 'SellerG', 'Suburb', 'Regionname'], dtype='object')\n"
     ]
    }
   ],
   "source": [
    "kategoricni = df_housing.select_dtypes(exclude=[\"int64\", \"float64\"]).columns\n",
    "print(kategoricni)"
   ],
   "metadata": {
    "collapsed": false,
    "ExecuteTime": {
     "end_time": "2023-10-17T10:24:14.441788300Z",
     "start_time": "2023-10-17T10:24:14.410748900Z"
    }
   },
   "id": "bd951cc8b3c69ddb"
  },
  {
   "cell_type": "code",
   "execution_count": 29,
   "outputs": [],
   "source": [
    "from sklearn.impute import SimpleImputer\n",
    "import numpy as np"
   ],
   "metadata": {
    "collapsed": false,
    "ExecuteTime": {
     "end_time": "2023-10-17T10:33:02.334502200Z",
     "start_time": "2023-10-17T10:33:02.313965900Z"
    }
   },
   "id": "55bcf673d638afa5"
  },
  {
   "cell_type": "code",
   "execution_count": 32,
   "outputs": [],
   "source": [
    "povprecje = SimpleImputer(missing_values=np.nan, strategy=\"mean\")\n",
    "df_housing[stevilski] = povprecje.fit_transform(df_housing[stevilski])\n",
    "\n",
    "najpogostejsi = SimpleImputer(missing_values=np.nan, strategy=\"most_frequent\")\n",
    "df_housing[kategoricni] = najpogostejsi.fit_transform(df_housing[kategoricni])"
   ],
   "metadata": {
    "collapsed": false,
    "ExecuteTime": {
     "end_time": "2023-10-17T10:33:47.337723300Z",
     "start_time": "2023-10-17T10:33:47.276184400Z"
    }
   },
   "id": "ec42e17e676251ea"
  },
  {
   "cell_type": "code",
   "execution_count": 36,
   "outputs": [
    {
     "data": {
      "text/plain": "Type                  0\nRooms                 0\nBathroom              0\nCarSpots              0\nLandsize              0\nBuildingArea          0\nYearBuilt             0\nPrice                 0\nSellerG               0\nSuburb                0\nDistanceFromCenter    0\nLattitude             0\nLongtitude            0\nRegionname            0\ndtype: int64"
     },
     "execution_count": 36,
     "metadata": {},
     "output_type": "execute_result"
    }
   ],
   "source": [
    "df_housing.isnull().sum()"
   ],
   "metadata": {
    "collapsed": false,
    "ExecuteTime": {
     "end_time": "2023-10-17T10:34:03.803707100Z",
     "start_time": "2023-10-17T10:34:03.741453Z"
    }
   },
   "id": "9cb6319338bb0416"
  },
  {
   "cell_type": "code",
   "execution_count": 37,
   "outputs": [],
   "source": [
    "from sklearn.model_selection import train_test_split"
   ],
   "metadata": {
    "collapsed": false,
    "ExecuteTime": {
     "end_time": "2023-10-17T10:34:27.425157700Z",
     "start_time": "2023-10-17T10:34:27.362238400Z"
    }
   },
   "id": "2f6dd7164e8be50f"
  },
  {
   "cell_type": "code",
   "execution_count": 41,
   "outputs": [
    {
     "data": {
      "text/plain": "(24574, 5)"
     },
     "execution_count": 41,
     "metadata": {},
     "output_type": "execute_result"
    }
   ],
   "source": [
    "izhod = \"Type\"\n",
    "vhod = [\"Rooms\", \"Bathroom\", \"CarSpots\", \"YearBuilt\", \"Price\"]\n",
    "\n",
    "x_train, x_test, y_train, y_test = train_test_split(df_housing[vhod], df_housing[izhod], test_size=0.2, random_state=123)\n",
    "x_train.shape"
   ],
   "metadata": {
    "collapsed": false,
    "ExecuteTime": {
     "end_time": "2023-10-17T10:52:22.491236600Z",
     "start_time": "2023-10-17T10:52:22.412886Z"
    }
   },
   "id": "d8946b609bbc393b"
  },
  {
   "cell_type": "code",
   "execution_count": 43,
   "outputs": [
    {
     "data": {
      "text/plain": "array(['house', 'house', 'house', 'house', 'house', 'house', 'house',\n       'house', 'house', 'house'], dtype=object)"
     },
     "execution_count": 43,
     "metadata": {},
     "output_type": "execute_result"
    }
   ],
   "source": [
    "from sklearn.neighbors import KNeighborsClassifier\n",
    "knn = KNeighborsClassifier(n_neighbors=5)\n",
    "knn.fit(x_train, y_train)\n",
    "rezultat = knn.predict(x_test)\n",
    "rezultat[:10]"
   ],
   "metadata": {
    "collapsed": false,
    "ExecuteTime": {
     "end_time": "2023-10-17T10:53:47.448003200Z",
     "start_time": "2023-10-17T10:53:47.204936Z"
    }
   },
   "id": "d32c56e2ba1f5b1b"
  },
  {
   "cell_type": "code",
   "execution_count": 45,
   "outputs": [
    {
     "name": "stdout",
     "output_type": "stream",
     "text": [
      "0.7381184895833334\n"
     ]
    }
   ],
   "source": [
    "from sklearn import metrics\n",
    "print(metrics.accuracy_score(rezultat, y_test))"
   ],
   "metadata": {
    "collapsed": false,
    "ExecuteTime": {
     "end_time": "2023-10-17T10:55:20.993831300Z",
     "start_time": "2023-10-17T10:55:20.905455Z"
    }
   },
   "id": "4f3f10ac8c56ef1f"
  },
  {
   "cell_type": "code",
   "execution_count": 47,
   "outputs": [],
   "source": [
    "from sklearn.tree import DecisionTreeClassifier\n",
    "klasifikator = [KNeighborsClassifier(), DecisionTreeClassifier()]"
   ],
   "metadata": {
    "collapsed": false,
    "ExecuteTime": {
     "end_time": "2023-10-17T10:59:08.050787800Z",
     "start_time": "2023-10-17T10:59:07.991799Z"
    }
   },
   "id": "facc1edd0bcc4ffa"
  },
  {
   "cell_type": "code",
   "execution_count": 48,
   "outputs": [
    {
     "name": "stdout",
     "output_type": "stream",
     "text": [
      "KNeighborsClassifier 0.7424653745895744\n",
      "DecisionTreeClassifier 0.7691270254158526\n"
     ]
    }
   ],
   "source": [
    "from sklearn.model_selection import StratifiedKFold, cross_val_score\n",
    "\n",
    "for k in klasifikator:\n",
    "    kfold = StratifiedKFold(n_splits=10)\n",
    "    rez = cross_val_score(k, df_housing[vhod], df_housing[izhod], cv=kfold, scoring=\"accuracy\")\n",
    "    print(type(k).__name__, rez.mean())"
   ],
   "metadata": {
    "collapsed": false,
    "ExecuteTime": {
     "end_time": "2023-10-17T11:04:11.333293500Z",
     "start_time": "2023-10-17T11:04:09.139231700Z"
    }
   },
   "id": "15df4ec47c09c4e4"
  },
  {
   "cell_type": "code",
   "execution_count": null,
   "outputs": [],
   "source": [],
   "metadata": {
    "collapsed": false
   },
   "id": "2d48de032f11cfa0"
  }
 ],
 "metadata": {
  "kernelspec": {
   "display_name": "Python 3",
   "language": "python",
   "name": "python3"
  },
  "language_info": {
   "codemirror_mode": {
    "name": "ipython",
    "version": 2
   },
   "file_extension": ".py",
   "mimetype": "text/x-python",
   "name": "python",
   "nbconvert_exporter": "python",
   "pygments_lexer": "ipython2",
   "version": "2.7.6"
  }
 },
 "nbformat": 4,
 "nbformat_minor": 5
}
